{
 "cells": [
  {
   "cell_type": "code",
   "execution_count": 1,
   "metadata": {
    "collapsed": true
   },
   "outputs": [],
   "source": [
    "import os\n",
    "import sys\n",
    "import numpy as np\n",
    "import pandas as pd\n",
    "from datetime import datetime, timedelta\n",
    "\n",
    "data_dir = '../data/'\n",
    "\n",
    "inf = float('inf')"
   ]
  },
  {
   "cell_type": "code",
   "execution_count": 2,
   "metadata": {
    "collapsed": true
   },
   "outputs": [],
   "source": [
    "def strtodate(s):\n",
    "    try:\n",
    "        return datetime.strptime(s, '%d/%m/%Y')\n",
    "    except ValueError as e:\n",
    "        pass # let it pass\n",
    "\n",
    "    try:\n",
    "        return datetime.strptime(s, '%Y-%m-%d')\n",
    "    except ValueError as e:\n",
    "        raise"
   ]
  },
  {
   "cell_type": "code",
   "execution_count": 3,
   "metadata": {
    "collapsed": false
   },
   "outputs": [
    {
     "name": "stdout",
     "output_type": "stream",
     "text": [
      "'train.csv' loaded\n"
     ]
    }
   ],
   "source": [
    "train_csvpath = os.path.join(data_dir, 'train.csv')\n",
    "train_data = pd.read_csv(train_csvpath,\n",
    "    dtype={\n",
    "        'Store': int,\n",
    "        'DayOfWeek': int,\n",
    "        'Sales': float,\n",
    "        'Open': int,\n",
    "        'Customers': int,\n",
    "        'Promo': int,\n",
    "        'StateHoliday': str,\n",
    "        'SchoolHoliday': int,\n",
    "    },\n",
    "    parse_dates=['Date'],\n",
    "    date_parser=strtodate)\n",
    "\n",
    "print '\\'train.csv\\' loaded'"
   ]
  },
  {
   "cell_type": "code",
   "execution_count": 4,
   "metadata": {
    "collapsed": false
   },
   "outputs": [
    {
     "name": "stdout",
     "output_type": "stream",
     "text": [
      "   Store  DayOfWeek       Date    Sales  Customers  Open  Promo StateHoliday  \\\n",
      "0      1          5 2015-07-31   5263.0        555     1      1            0   \n",
      "1      2          5 2015-07-31   6064.0        625     1      1            0   \n",
      "2      3          5 2015-07-31   8314.0        821     1      1            0   \n",
      "3      4          5 2015-07-31  13995.0       1498     1      1            0   \n",
      "4      5          5 2015-07-31   4822.0        559     1      1            0   \n",
      "5      6          5 2015-07-31   5651.0        589     1      1            0   \n",
      "6      7          5 2015-07-31  15344.0       1414     1      1            0   \n",
      "7      8          5 2015-07-31   8492.0        833     1      1            0   \n",
      "8      9          5 2015-07-31   8565.0        687     1      1            0   \n",
      "9     10          5 2015-07-31   7185.0        681     1      1            0   \n",
      "\n",
      "   SchoolHoliday StateHoliday_0 StateHoliday_a StateHoliday_b StateHoliday_c  \\\n",
      "0              1           True          False          False          False   \n",
      "1              1           True          False          False          False   \n",
      "2              1           True          False          False          False   \n",
      "3              1           True          False          False          False   \n",
      "4              1           True          False          False          False   \n",
      "5              1           True          False          False          False   \n",
      "6              1           True          False          False          False   \n",
      "7              1           True          False          False          False   \n",
      "8              1           True          False          False          False   \n",
      "9              1           True          False          False          False   \n",
      "\n",
      "  Weekends Weekdays  \n",
      "0     True    False  \n",
      "1     True    False  \n",
      "2     True    False  \n",
      "3     True    False  \n",
      "4     True    False  \n",
      "5     True    False  \n",
      "6     True    False  \n",
      "7     True    False  \n",
      "8     True    False  \n",
      "9     True    False  \n"
     ]
    }
   ],
   "source": [
    "train_data.insert(len(train_data.columns), 'StateHoliday_0', train_data['StateHoliday'] == '0')\n",
    "train_data.insert(len(train_data.columns), 'StateHoliday_a', train_data['StateHoliday'] == 'a')\n",
    "train_data.insert(len(train_data.columns), 'StateHoliday_b', train_data['StateHoliday'] == 'b')\n",
    "train_data.insert(len(train_data.columns), 'StateHoliday_c', train_data['StateHoliday'] == 'c')\n",
    "train_data.insert(len(train_data.columns), 'Weekends', 5 <= train_data['DayOfWeek'])\n",
    "train_data.insert(len(train_data.columns), 'Weekdays', train_data['DayOfWeek'] < 5)\n",
    "\n",
    "print train_data.iloc[:10]"
   ]
  },
  {
   "cell_type": "code",
   "execution_count": 5,
   "metadata": {
    "collapsed": false
   },
   "outputs": [
    {
     "name": "stdout",
     "output_type": "stream",
     "text": [
      "Store                      int32\n",
      "DayOfWeek                  int32\n",
      "Date              datetime64[ns]\n",
      "Sales                    float64\n",
      "Customers                  int32\n",
      "Open                       int32\n",
      "Promo                      int32\n",
      "StateHoliday              object\n",
      "SchoolHoliday              int32\n",
      "StateHoliday_0              bool\n",
      "StateHoliday_a              bool\n",
      "StateHoliday_b              bool\n",
      "StateHoliday_c              bool\n",
      "Weekends                    bool\n",
      "Weekdays                    bool\n",
      "dtype: object\n"
     ]
    }
   ],
   "source": [
    "print train_data.dtypes"
   ]
  },
  {
   "cell_type": "code",
   "execution_count": 6,
   "metadata": {
    "collapsed": false
   },
   "outputs": [
    {
     "name": "stdout",
     "output_type": "stream",
     "text": [
      "'store.csv' loaded\n"
     ]
    }
   ],
   "source": [
    "store_csvpath = os.path.join(data_dir, 'store.csv')\n",
    "store_data = pd.read_csv(store_csvpath,\n",
    "    dtype={\n",
    "        'Store': int,\n",
    "        'StoreType': str,\n",
    "        'Assortment': str,\n",
    "        'CompetitionDistance': float,\n",
    "        'CompetitionOpenSinceMonth': float,\n",
    "        'CompetitionOpenSinceYear': float,\n",
    "        'Promo2': int,\n",
    "        'Promo2SinceWeek': float,\n",
    "        'Promo2SinceYear': float,\n",
    "        'PromoInterval': str\n",
    "    })\n",
    "\n",
    "print '\\'store.csv\\' loaded'"
   ]
  },
  {
   "cell_type": "code",
   "execution_count": 7,
   "metadata": {
    "collapsed": false
   },
   "outputs": [
    {
     "name": "stdout",
     "output_type": "stream",
     "text": [
      "   Store StoreType Assortment  CompetitionDistance  CompetitionOpenSinceMonth  \\\n",
      "0      1         c          a               1270.0                        9.0   \n",
      "1      2         a          a                570.0                       11.0   \n",
      "2      3         a          a              14130.0                       12.0   \n",
      "3      4         c          c                620.0                        9.0   \n",
      "4      5         a          a              29910.0                        4.0   \n",
      "5      6         a          a                310.0                       12.0   \n",
      "6      7         a          c              24000.0                        4.0   \n",
      "7      8         a          a               7520.0                       10.0   \n",
      "8      9         a          c               2030.0                        8.0   \n",
      "9     10         a          a               3160.0                        9.0   \n",
      "\n",
      "   CompetitionOpenSinceYear  Promo2  Promo2SinceWeek  Promo2SinceYear  \\\n",
      "0                    2008.0       0             -1.0             -1.0   \n",
      "1                    2007.0       1             13.0           2010.0   \n",
      "2                    2006.0       1             14.0           2011.0   \n",
      "3                    2009.0       0             -1.0             -1.0   \n",
      "4                    2015.0       0             -1.0             -1.0   \n",
      "5                    2013.0       0             -1.0             -1.0   \n",
      "6                    2013.0       0             -1.0             -1.0   \n",
      "7                    2014.0       0             -1.0             -1.0   \n",
      "8                    2000.0       0             -1.0             -1.0   \n",
      "9                    2009.0       0             -1.0             -1.0   \n",
      "\n",
      "     PromoInterval  \n",
      "0                   \n",
      "1  Jan,Apr,Jul,Oct  \n",
      "2  Jan,Apr,Jul,Oct  \n",
      "3                   \n",
      "4                   \n",
      "5                   \n",
      "6                   \n",
      "7                   \n",
      "8                   \n",
      "9                   \n"
     ]
    }
   ],
   "source": [
    "store_data.fillna({\n",
    "    'CompetitionDistance': inf,\n",
    "    'CompetitionOpenSinceMonth': -1.,\n",
    "    'CompetitionOpenSinceYear': -1.,\n",
    "    'Promo2SinceWeek': -1.,\n",
    "    'Promo2SinceYear': -1.,\n",
    "    'PromoInterval': '',\n",
    "    }, inplace=True)\n",
    "\n",
    "print store_data.iloc[:10]"
   ]
  },
  {
   "cell_type": "code",
   "execution_count": 8,
   "metadata": {
    "collapsed": false
   },
   "outputs": [
    {
     "name": "stdout",
     "output_type": "stream",
     "text": [
      "Store                          int32\n",
      "StoreType                     object\n",
      "Assortment                    object\n",
      "CompetitionDistance          float64\n",
      "CompetitionOpenSinceMonth      int32\n",
      "CompetitionOpenSinceYear       int32\n",
      "Promo2                         int32\n",
      "Promo2SinceWeek                int32\n",
      "Promo2SinceYear                int32\n",
      "PromoInterval                 object\n",
      "dtype: object\n"
     ]
    }
   ],
   "source": [
    "store_data = store_data.astype({\n",
    "    'CompetitionOpenSinceMonth': int,\n",
    "    'CompetitionOpenSinceYear': int,\n",
    "    'Promo2SinceWeek': int,\n",
    "    'Promo2SinceYear': int\n",
    "    }, copy=False)\n",
    "\n",
    "print store_data.dtypes"
   ]
  },
  {
   "cell_type": "code",
   "execution_count": 9,
   "metadata": {
    "collapsed": false
   },
   "outputs": [
    {
     "name": "stdout",
     "output_type": "stream",
     "text": [
      "Store                           int32\n",
      "DayOfWeek                       int32\n",
      "Date                   datetime64[ns]\n",
      "Sales                         float64\n",
      "Customers                       int32\n",
      "Open                            int32\n",
      "Promo                           int32\n",
      "StateHoliday                   object\n",
      "SchoolHoliday                   int32\n",
      "StateHoliday_0                   bool\n",
      "StateHoliday_a                   bool\n",
      "StateHoliday_b                   bool\n",
      "StateHoliday_c                   bool\n",
      "Weekends                         bool\n",
      "Weekdays                         bool\n",
      "StoreType_a                      bool\n",
      "StoreType_b                      bool\n",
      "StoreType_c                      bool\n",
      "StoreType_d                      bool\n",
      "Assortment_a                     bool\n",
      "Assortment_b                     bool\n",
      "Assortment_c                     bool\n",
      "HasCompetition                   bool\n",
      "CompetitionDistance           float64\n",
      "IsDoingPromo2                    bool\n",
      "dtype: object\n"
     ]
    }
   ],
   "source": [
    "train_data.insert(len(train_data.columns), 'StoreType_a', False)\n",
    "train_data.insert(len(train_data.columns), 'StoreType_b', False)\n",
    "train_data.insert(len(train_data.columns), 'StoreType_c', False)\n",
    "train_data.insert(len(train_data.columns), 'StoreType_d', False)\n",
    "\n",
    "train_data.insert(len(train_data.columns), 'Assortment_a', False)\n",
    "train_data.insert(len(train_data.columns), 'Assortment_b', False)\n",
    "train_data.insert(len(train_data.columns), 'Assortment_c', False)\n",
    "\n",
    "train_data.insert(len(train_data.columns), 'HasCompetition', False)\n",
    "train_data.insert(len(train_data.columns), 'CompetitionDistance', 0.)\n",
    "\n",
    "train_data.insert(len(train_data.columns), 'IsDoingPromo2', False)\n",
    "\n",
    "print train_data.dtypes"
   ]
  },
  {
   "cell_type": "code",
   "execution_count": 10,
   "metadata": {
    "collapsed": false
   },
   "outputs": [],
   "source": [
    "num_stores = 1115\n",
    "for i in range(1, num_stores+1):\n",
    "    store_details = store_data.loc[store_data['Store'] == i]\n",
    "    \n",
    "    # I fucking hate pandas so much\n",
    "    train_data.loc[train_data['Store'] == i, 'StoreType_a'] = (store_details.loc[:, 'StoreType'] == 'a').all()\n",
    "    train_data.loc[train_data['Store'] == i, 'StoreType_b'] = (store_details.loc[:, 'StoreType'] == 'b').all()\n",
    "    train_data.loc[train_data['Store'] == i, 'StoreType_c'] = (store_details.loc[:, 'StoreType'] == 'c').all()\n",
    "    train_data.loc[train_data['Store'] == i, 'StoreType_d'] = (store_details.loc[:, 'StoreType'] == 'd').all()\n",
    "    \n",
    "    train_data.loc[train_data['Store'] == i, 'Assortment_a'] = (store_details.loc[:, 'Assortment'] == 'a').all()\n",
    "    train_data.loc[train_data['Store'] == i, 'Assortment_b'] = (store_details.loc[:, 'Assortment'] == 'b').all()\n",
    "    train_data.loc[train_data['Store'] == i, 'Assortment_c'] = (store_details.loc[:, 'Assortment'] == 'c').all()\n",
    "    \n",
    "    if (store_details['CompetitionDistance'] < inf).all():\n",
    "        cp_open_since_mo = store_details.loc[:, 'CompetitionOpenSinceMonth'].values[0]\n",
    "        cp_open_since_yr = store_details.loc[:, 'CompetitionOpenSinceYear'].values[0]\n",
    "\n",
    "        if cp_open_since_mo == -1 and cp_open_since_yr == -1:\n",
    "            dummy_date_str = '2010/1'\n",
    "        else:\n",
    "            dummy_date_str = '%d/%d' % (cp_open_since_yr, cp_open_since_mo)\n",
    "        dummy_date = datetime.strptime(dummy_date_str, '%Y/%m')\n",
    "\n",
    "        train_data.loc[(train_data['Store'] == i) & \\\n",
    "            (train_data['Date'] >= dummy_date), ['HasCompetition',\n",
    "            'CompetitionDistance']] = [True, store_details['CompetitionDistance'].values[0]]\n",
    "    \n",
    "    if (store_details.loc[:, 'Promo2'] == 1).all():\n",
    "        p2_since_yr = store_details.loc[:, 'Promo2SinceYear'].values[0]\n",
    "        p2_since_wk = store_details.loc[:, 'Promo2SinceWeek'].values[0]\n",
    "        p2_interval = store_details.loc[:, 'PromoInterval'].values[0]\n",
    "        \n",
    "        dummy_date_str = 'Mon, %d/%d' % (p2_since_yr, p2_since_wk)\n",
    "        dummy_date = datetime.strptime(dummy_date_str, '%a, %Y/%W')\n",
    "        \n",
    "        for mo_str in p2_interval.split(','):\n",
    "            # I am sorry\n",
    "            mo_str = mo_str[:3]\n",
    "\n",
    "            mo = datetime.strptime(mo_str, '%b')            \n",
    "            train_data.loc[(train_data['Store'] == i) &\n",
    "                (train_data['Date'].dt.month == mo.month) &\n",
    "                (train_data['Date'] >= dummy_date), 'IsDoingPromo2'] = True"
   ]
  },
  {
   "cell_type": "code",
   "execution_count": 11,
   "metadata": {
    "collapsed": false
   },
   "outputs": [
    {
     "name": "stdout",
     "output_type": "stream",
     "text": [
      "Check integrity\n",
      "\n",
      "Store                           int32\n",
      "DayOfWeek                       int32\n",
      "Date                   datetime64[ns]\n",
      "Sales                         float64\n",
      "Customers                       int32\n",
      "Open                            int32\n",
      "Promo                           int32\n",
      "StateHoliday                   object\n",
      "SchoolHoliday                   int32\n",
      "StateHoliday_0                   bool\n",
      "StateHoliday_a                   bool\n",
      "StateHoliday_b                   bool\n",
      "StateHoliday_c                   bool\n",
      "Weekends                         bool\n",
      "Weekdays                         bool\n",
      "StoreType_a                      bool\n",
      "StoreType_b                      bool\n",
      "StoreType_c                      bool\n",
      "StoreType_d                      bool\n",
      "Assortment_a                     bool\n",
      "Assortment_b                     bool\n",
      "Assortment_c                     bool\n",
      "HasCompetition                   bool\n",
      "CompetitionDistance           float64\n",
      "IsDoingPromo2                    bool\n",
      "dtype: object\n"
     ]
    }
   ],
   "source": [
    "print 'Check integrity\\n'\n",
    "\n",
    "print train_data.dtypes"
   ]
  },
  {
   "cell_type": "code",
   "execution_count": 12,
   "metadata": {
    "collapsed": true
   },
   "outputs": [],
   "source": [
    "train_data.to_csv(os.path.join(data_dir, 'train_merged.csv'), date_format='%d/%m/%Y', index=False)"
   ]
  },
  {
   "cell_type": "code",
   "execution_count": null,
   "metadata": {
    "collapsed": true
   },
   "outputs": [],
   "source": []
  }
 ],
 "metadata": {
  "kernelspec": {
   "display_name": "Python 2",
   "language": "python",
   "name": "python2"
  },
  "language_info": {
   "codemirror_mode": {
    "name": "ipython",
    "version": 2
   },
   "file_extension": ".py",
   "mimetype": "text/x-python",
   "name": "python",
   "nbconvert_exporter": "python",
   "pygments_lexer": "ipython2",
   "version": "2.7.13"
  }
 },
 "nbformat": 4,
 "nbformat_minor": 2
}
