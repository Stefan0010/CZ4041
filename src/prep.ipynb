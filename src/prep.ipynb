{
 "cells": [
  {
   "cell_type": "code",
   "execution_count": 1,
   "metadata": {
    "collapsed": true
   },
   "outputs": [],
   "source": [
    "import os\n",
    "import sys\n",
    "import numpy as np\n",
    "import pandas as pd\n",
    "from datetime import datetime, timedelta\n",
    "\n",
    "data_dir = '../data/'\n",
    "\n",
    "inf = float('inf')"
   ]
  },
  {
   "cell_type": "code",
   "execution_count": 2,
   "metadata": {
    "collapsed": true
   },
   "outputs": [],
   "source": [
    "def strtodate(s):\n",
    "    try:\n",
    "        return datetime.strptime(s, '%d/%m/%Y')\n",
    "    except ValueError as e:\n",
    "        pass # let it pass\n",
    "\n",
    "    try:\n",
    "        return datetime.strptime(s, '%Y-%m-%d')\n",
    "    except ValueError as e:\n",
    "        raise"
   ]
  },
  {
   "cell_type": "code",
   "execution_count": 3,
   "metadata": {
    "collapsed": false
   },
   "outputs": [
    {
     "name": "stdout",
     "output_type": "stream",
     "text": [
      "'test.csv' loaded\n"
     ]
    }
   ],
   "source": [
    "test_csvpath = os.path.join(data_dir, 'test.csv')\n",
    "test_data = pd.read_csv(test_csvpath,\n",
    "    dtype={\n",
    "        'Id': int,\n",
    "        'Store': int,\n",
    "        'DayOfWeek': int,\n",
    "        'Customers': int,\n",
    "        'Promo': int,\n",
    "        'StateHoliday': str,\n",
    "        'SchoolHoliday': int,\n",
    "    },\n",
    "    parse_dates=['Date'],\n",
    "    date_parser=strtodate)\n",
    "\n",
    "# Well played!\n",
    "test_data.fillna({'Open': 1.}, inplace=True)\n",
    "test_data = test_data.astype({'Open': int}, copy=False)\n",
    "\n",
    "print '\\'test.csv\\' loaded'"
   ]
  },
  {
   "cell_type": "code",
   "execution_count": 4,
   "metadata": {
    "collapsed": false
   },
   "outputs": [
    {
     "name": "stdout",
     "output_type": "stream",
     "text": [
      "   Id  Store  DayOfWeek       Date  Open  Promo StateHoliday  SchoolHoliday  \\\n",
      "0   1      1          4 2015-09-17     1      1            0              0   \n",
      "1   2      3          4 2015-09-17     1      1            0              0   \n",
      "2   3      7          4 2015-09-17     1      1            0              0   \n",
      "3   4      8          4 2015-09-17     1      1            0              0   \n",
      "4   5      9          4 2015-09-17     1      1            0              0   \n",
      "5   6     10          4 2015-09-17     1      1            0              0   \n",
      "6   7     11          4 2015-09-17     1      1            0              0   \n",
      "7   8     12          4 2015-09-17     1      1            0              0   \n",
      "8   9     13          4 2015-09-17     1      1            0              0   \n",
      "9  10     14          4 2015-09-17     1      1            0              0   \n",
      "\n",
      "  StateHoliday_0 StateHoliday_a StateHoliday_b StateHoliday_c Weekends  \\\n",
      "0           True          False          False          False    False   \n",
      "1           True          False          False          False    False   \n",
      "2           True          False          False          False    False   \n",
      "3           True          False          False          False    False   \n",
      "4           True          False          False          False    False   \n",
      "5           True          False          False          False    False   \n",
      "6           True          False          False          False    False   \n",
      "7           True          False          False          False    False   \n",
      "8           True          False          False          False    False   \n",
      "9           True          False          False          False    False   \n",
      "\n",
      "  Weekdays  \n",
      "0     True  \n",
      "1     True  \n",
      "2     True  \n",
      "3     True  \n",
      "4     True  \n",
      "5     True  \n",
      "6     True  \n",
      "7     True  \n",
      "8     True  \n",
      "9     True  \n"
     ]
    }
   ],
   "source": [
    "test_data.insert(len(test_data.columns), 'StateHoliday_0', test_data['StateHoliday'] == '0')\n",
    "test_data.insert(len(test_data.columns), 'StateHoliday_a', test_data['StateHoliday'] == 'a')\n",
    "test_data.insert(len(test_data.columns), 'StateHoliday_b', test_data['StateHoliday'] == 'b')\n",
    "test_data.insert(len(test_data.columns), 'StateHoliday_c', test_data['StateHoliday'] == 'c')\n",
    "test_data.insert(len(test_data.columns), 'Weekends', 5 <= test_data['DayOfWeek'])\n",
    "test_data.insert(len(test_data.columns), 'Weekdays', test_data['DayOfWeek'] < 5)\n",
    "\n",
    "print test_data.iloc[:10]"
   ]
  },
  {
   "cell_type": "code",
   "execution_count": 5,
   "metadata": {
    "collapsed": false
   },
   "outputs": [
    {
     "name": "stdout",
     "output_type": "stream",
     "text": [
      "Id                         int32\n",
      "Store                      int32\n",
      "DayOfWeek                  int32\n",
      "Date              datetime64[ns]\n",
      "Open                       int32\n",
      "Promo                      int32\n",
      "StateHoliday              object\n",
      "SchoolHoliday              int32\n",
      "StateHoliday_0              bool\n",
      "StateHoliday_a              bool\n",
      "StateHoliday_b              bool\n",
      "StateHoliday_c              bool\n",
      "Weekends                    bool\n",
      "Weekdays                    bool\n",
      "dtype: object\n"
     ]
    }
   ],
   "source": [
    "print test_data.dtypes"
   ]
  },
  {
   "cell_type": "code",
   "execution_count": 6,
   "metadata": {
    "collapsed": false
   },
   "outputs": [
    {
     "name": "stdout",
     "output_type": "stream",
     "text": [
      "'store.csv' loaded\n"
     ]
    }
   ],
   "source": [
    "store_csvpath = os.path.join(data_dir, 'store.csv')\n",
    "store_data = pd.read_csv(store_csvpath,\n",
    "    dtype={\n",
    "        'Store': int,\n",
    "        'StoreType': str,\n",
    "        'Assortment': str,\n",
    "        'CompetitionDistance': float,\n",
    "        'CompetitionOpenSinceMonth': float,\n",
    "        'CompetitionOpenSinceYear': float,\n",
    "        'Promo2': int,\n",
    "        'Promo2SinceWeek': float,\n",
    "        'Promo2SinceYear': float,\n",
    "        'PromoInterval': str\n",
    "    })\n",
    "\n",
    "print '\\'store.csv\\' loaded'"
   ]
  },
  {
   "cell_type": "code",
   "execution_count": 7,
   "metadata": {
    "collapsed": false
   },
   "outputs": [
    {
     "name": "stdout",
     "output_type": "stream",
     "text": [
      "   Store StoreType Assortment  CompetitionDistance  CompetitionOpenSinceMonth  \\\n",
      "0      1         c          a               1270.0                        9.0   \n",
      "1      2         a          a                570.0                       11.0   \n",
      "2      3         a          a              14130.0                       12.0   \n",
      "3      4         c          c                620.0                        9.0   \n",
      "4      5         a          a              29910.0                        4.0   \n",
      "5      6         a          a                310.0                       12.0   \n",
      "6      7         a          c              24000.0                        4.0   \n",
      "7      8         a          a               7520.0                       10.0   \n",
      "8      9         a          c               2030.0                        8.0   \n",
      "9     10         a          a               3160.0                        9.0   \n",
      "\n",
      "   CompetitionOpenSinceYear  Promo2  Promo2SinceWeek  Promo2SinceYear  \\\n",
      "0                    2008.0       0             -1.0             -1.0   \n",
      "1                    2007.0       1             13.0           2010.0   \n",
      "2                    2006.0       1             14.0           2011.0   \n",
      "3                    2009.0       0             -1.0             -1.0   \n",
      "4                    2015.0       0             -1.0             -1.0   \n",
      "5                    2013.0       0             -1.0             -1.0   \n",
      "6                    2013.0       0             -1.0             -1.0   \n",
      "7                    2014.0       0             -1.0             -1.0   \n",
      "8                    2000.0       0             -1.0             -1.0   \n",
      "9                    2009.0       0             -1.0             -1.0   \n",
      "\n",
      "     PromoInterval  \n",
      "0                   \n",
      "1  Jan,Apr,Jul,Oct  \n",
      "2  Jan,Apr,Jul,Oct  \n",
      "3                   \n",
      "4                   \n",
      "5                   \n",
      "6                   \n",
      "7                   \n",
      "8                   \n",
      "9                   \n"
     ]
    }
   ],
   "source": [
    "store_data.fillna({\n",
    "    'CompetitionDistance': inf,\n",
    "    'CompetitionOpenSinceMonth': -1.,\n",
    "    'CompetitionOpenSinceYear': -1.,\n",
    "    'Promo2SinceWeek': -1.,\n",
    "    'Promo2SinceYear': -1.,\n",
    "    'PromoInterval': '',\n",
    "    }, inplace=True)\n",
    "\n",
    "print store_data.iloc[:10]"
   ]
  },
  {
   "cell_type": "code",
   "execution_count": 8,
   "metadata": {
    "collapsed": false
   },
   "outputs": [
    {
     "name": "stdout",
     "output_type": "stream",
     "text": [
      "Store                          int32\n",
      "StoreType                     object\n",
      "Assortment                    object\n",
      "CompetitionDistance          float64\n",
      "CompetitionOpenSinceMonth      int32\n",
      "CompetitionOpenSinceYear       int32\n",
      "Promo2                         int32\n",
      "Promo2SinceWeek                int32\n",
      "Promo2SinceYear                int32\n",
      "PromoInterval                 object\n",
      "dtype: object\n"
     ]
    }
   ],
   "source": [
    "store_data = store_data.astype({\n",
    "    'CompetitionOpenSinceMonth': int,\n",
    "    'CompetitionOpenSinceYear': int,\n",
    "    'Promo2SinceWeek': int,\n",
    "    'Promo2SinceYear': int\n",
    "    }, copy=False)\n",
    "\n",
    "print store_data.dtypes"
   ]
  },
  {
   "cell_type": "code",
   "execution_count": 9,
   "metadata": {
    "collapsed": false
   },
   "outputs": [
    {
     "name": "stdout",
     "output_type": "stream",
     "text": [
      "Id                              int32\n",
      "Store                           int32\n",
      "DayOfWeek                       int32\n",
      "Date                   datetime64[ns]\n",
      "Open                            int32\n",
      "Promo                           int32\n",
      "StateHoliday                   object\n",
      "SchoolHoliday                   int32\n",
      "StateHoliday_0                   bool\n",
      "StateHoliday_a                   bool\n",
      "StateHoliday_b                   bool\n",
      "StateHoliday_c                   bool\n",
      "Weekends                         bool\n",
      "Weekdays                         bool\n",
      "StoreType_a                      bool\n",
      "StoreType_b                      bool\n",
      "StoreType_c                      bool\n",
      "StoreType_d                      bool\n",
      "Assortment_a                     bool\n",
      "Assortment_b                     bool\n",
      "Assortment_c                     bool\n",
      "HasCompetition                   bool\n",
      "CompetitionDistance           float64\n",
      "IsDoingPromo2                    bool\n",
      "dtype: object\n"
     ]
    }
   ],
   "source": [
    "test_data.insert(len(test_data.columns), 'StoreType_a', False)\n",
    "test_data.insert(len(test_data.columns), 'StoreType_b', False)\n",
    "test_data.insert(len(test_data.columns), 'StoreType_c', False)\n",
    "test_data.insert(len(test_data.columns), 'StoreType_d', False)\n",
    "\n",
    "test_data.insert(len(test_data.columns), 'Assortment_a', False)\n",
    "test_data.insert(len(test_data.columns), 'Assortment_b', False)\n",
    "test_data.insert(len(test_data.columns), 'Assortment_c', False)\n",
    "\n",
    "test_data.insert(len(test_data.columns), 'HasCompetition', False)\n",
    "test_data.insert(len(test_data.columns), 'CompetitionDistance', 0.)\n",
    "\n",
    "test_data.insert(len(test_data.columns), 'IsDoingPromo2', False)\n",
    "\n",
    "print test_data.dtypes"
   ]
  },
  {
   "cell_type": "code",
   "execution_count": 10,
   "metadata": {
    "collapsed": true
   },
   "outputs": [],
   "source": [
    "num_stores = 1115\n",
    "for i in range(1, num_stores+1):\n",
    "    store_details = store_data.loc[store_data['Store'] == i]\n",
    "    \n",
    "    # I fucking hate pandas so much\n",
    "    test_data.loc[test_data['Store'] == i, 'StoreType_a'] = (store_details.loc[:, 'StoreType'] == 'a').all()\n",
    "    test_data.loc[test_data['Store'] == i, 'StoreType_b'] = (store_details.loc[:, 'StoreType'] == 'b').all()\n",
    "    test_data.loc[test_data['Store'] == i, 'StoreType_c'] = (store_details.loc[:, 'StoreType'] == 'c').all()\n",
    "    test_data.loc[test_data['Store'] == i, 'StoreType_d'] = (store_details.loc[:, 'StoreType'] == 'd').all()\n",
    "    \n",
    "    test_data.loc[test_data['Store'] == i, 'Assortment_a'] = (store_details.loc[:, 'Assortment'] == 'a').all()\n",
    "    test_data.loc[test_data['Store'] == i, 'Assortment_b'] = (store_details.loc[:, 'Assortment'] == 'b').all()\n",
    "    test_data.loc[test_data['Store'] == i, 'Assortment_c'] = (store_details.loc[:, 'Assortment'] == 'c').all()\n",
    "    \n",
    "    if (store_details['CompetitionDistance'] < inf).all():\n",
    "        cp_open_since_mo = store_details.loc[:, 'CompetitionOpenSinceMonth'].values[0]\n",
    "        cp_open_since_yr = store_details.loc[:, 'CompetitionOpenSinceYear'].values[0]\n",
    "\n",
    "        if cp_open_since_mo == -1 and cp_open_since_yr == -1:\n",
    "            dummy_date_str = '2010/1'\n",
    "        else:\n",
    "            dummy_date_str = '%d/%d' % (cp_open_since_yr, cp_open_since_mo)\n",
    "        dummy_date = datetime.strptime(dummy_date_str, '%Y/%m')\n",
    "\n",
    "        test_data.loc[(test_data['Store'] == i) & \\\n",
    "            (test_data['Date'] >= dummy_date), ['HasCompetition',\n",
    "            'CompetitionDistance']] = [True, store_details['CompetitionDistance'].values[0]]\n",
    "    \n",
    "    if (store_details.loc[:, 'Promo2'] == 1).all():\n",
    "        p2_since_yr = store_details.loc[:, 'Promo2SinceYear'].values[0]\n",
    "        p2_since_wk = store_details.loc[:, 'Promo2SinceWeek'].values[0]\n",
    "        p2_interval = store_details.loc[:, 'PromoInterval'].values[0]\n",
    "        \n",
    "        dummy_date_str = 'Mon, %d/%d' % (p2_since_yr, p2_since_wk)\n",
    "        dummy_date = datetime.strptime(dummy_date_str, '%a, %Y/%W')\n",
    "        \n",
    "        for mo_str in p2_interval.split(','):\n",
    "            # I am sorry\n",
    "            mo_str = mo_str[:3]\n",
    "\n",
    "            mo = datetime.strptime(mo_str, '%b')            \n",
    "            test_data.loc[(test_data['Store'] == i) &\n",
    "                (test_data['Date'].dt.month == mo.month) &\n",
    "                (test_data['Date'] >= dummy_date), 'IsDoingPromo2'] = True"
   ]
  },
  {
   "cell_type": "code",
   "execution_count": 11,
   "metadata": {
    "collapsed": false
   },
   "outputs": [
    {
     "name": "stdout",
     "output_type": "stream",
     "text": [
      "Check integrity!\n",
      "\n",
      "Id                              int32\n",
      "Store                           int32\n",
      "DayOfWeek                       int32\n",
      "Date                   datetime64[ns]\n",
      "Open                            int32\n",
      "Promo                           int32\n",
      "StateHoliday                   object\n",
      "SchoolHoliday                   int32\n",
      "StateHoliday_0                   bool\n",
      "StateHoliday_a                   bool\n",
      "StateHoliday_b                   bool\n",
      "StateHoliday_c                   bool\n",
      "Weekends                         bool\n",
      "Weekdays                         bool\n",
      "StoreType_a                      bool\n",
      "StoreType_b                      bool\n",
      "StoreType_c                      bool\n",
      "StoreType_d                      bool\n",
      "Assortment_a                     bool\n",
      "Assortment_b                     bool\n",
      "Assortment_c                     bool\n",
      "HasCompetition                   bool\n",
      "CompetitionDistance           float64\n",
      "IsDoingPromo2                    bool\n",
      "dtype: object\n"
     ]
    }
   ],
   "source": [
    "print 'Check integrity!\\n'\n",
    "\n",
    "print test_data.dtypes"
   ]
  },
  {
   "cell_type": "code",
   "execution_count": 12,
   "metadata": {
    "collapsed": true
   },
   "outputs": [],
   "source": [
    "test_data.to_csv(os.path.join(data_dir, 'test_merged.csv'), date_format='%d/%m/%Y', index=False)"
   ]
  },
  {
   "cell_type": "code",
   "execution_count": null,
   "metadata": {
    "collapsed": true
   },
   "outputs": [],
   "source": []
  }
 ],
 "metadata": {
  "kernelspec": {
   "display_name": "Python 2",
   "language": "python",
   "name": "python2"
  },
  "language_info": {
   "codemirror_mode": {
    "name": "ipython",
    "version": 2
   },
   "file_extension": ".py",
   "mimetype": "text/x-python",
   "name": "python",
   "nbconvert_exporter": "python",
   "pygments_lexer": "ipython2",
   "version": "2.7.13"
  }
 },
 "nbformat": 4,
 "nbformat_minor": 2
}
